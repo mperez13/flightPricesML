{
 "cells": [
  {
   "cell_type": "markdown",
   "metadata": {
    "application/vnd.databricks.v1+cell": {
     "cellMetadata": {
      "byteLimit": 2048000,
      "rowLimit": 10000
     },
     "inputWidgets": {},
     "nuid": "cc4bfcf9-fe30-4a2d-b437-cb98bab00139",
     "showTitle": false,
     "tableResultSettingsMap": {},
     "title": ""
    }
   },
   "source": [
    "# Gradient Boosted Trees (GBT)\n",
    "\n",
    "The following uses two regression models to predict flight fares based on various features."
   ]
  },
  {
   "cell_type": "code",
   "execution_count": 0,
   "metadata": {
    "application/vnd.databricks.v1+cell": {
     "cellMetadata": {
      "byteLimit": 2048000,
      "rowLimit": 10000
     },
     "inputWidgets": {},
     "nuid": "e74014a1-c2c6-44b9-bb2f-25a29b2fa862",
     "showTitle": false,
     "tableResultSettingsMap": {},
     "title": ""
    }
   },
   "outputs": [],
   "source": [
    "# Importing required classes from PySpark's ML library\n",
    "from pyspark.ml.feature import VectorAssembler \n",
    "from pyspark.ml.regression import RandomForestRegressor, GBTRegressor\n",
    "from pyspark.ml.evaluation import RegressionEvaluator\n",
    "from pyspark.ml import Pipeline\n",
    "from pyspark.ml.tuning import ParamGridBuilder, TrainValidationSplit, CrossValidator\n",
    "from pyspark.sql.functions import col, isnull, lit, udf\n",
    "from pyspark.ml.feature import StringIndexer, OneHotEncoder\n",
    "from pyspark.ml.linalg import Vectors\n",
    "from pyspark.sql.types import *\n",
    "from pyspark.sql.functions import * \n",
    "from pyspark.ml.evaluation import RegressionEvaluator \n",
    "import time\n",
    "import pandas as pd\n",
    "from pyspark.ml.feature import MinMaxScaler\n",
    "from pyspark.context import SparkContext\n",
    "from pyspark.sql.session import SparkSession"
   ]
  },
  {
   "cell_type": "code",
   "execution_count": 0,
   "metadata": {
    "application/vnd.databricks.v1+cell": {
     "cellMetadata": {
      "byteLimit": 2048000,
      "rowLimit": 10000
     },
     "inputWidgets": {},
     "nuid": "ee7b709e-f545-4e63-aeab-e2ba1180fec8",
     "showTitle": false,
     "tableResultSettingsMap": {},
     "title": ""
    }
   },
   "outputs": [],
   "source": [
    "# Set for running PySpark in CLI (Command Line Interface) mode\n",
    "PYSPARK_CLI = False # False means we are not running in CLI mode\n",
    "if PYSPARK_CLI:\n",
    "    sc = SparkContext.getOrCreate()\n",
    "    spark = SparkSession(sc)"
   ]
  },
  {
   "cell_type": "code",
   "execution_count": 0,
   "metadata": {
    "application/vnd.databricks.v1+cell": {
     "cellMetadata": {
      "byteLimit": 2048000,
      "rowLimit": 10000
     },
     "inputWidgets": {},
     "nuid": "8bded538-7229-4c33-a8b3-789e5ab0c681",
     "showTitle": false,
     "tableResultSettingsMap": {},
     "title": ""
    }
   },
   "outputs": [
    {
     "output_type": "stream",
     "name": "stdout",
     "output_type": "stream",
     "text": [
      "+--------------------+-------------------+-------------------+---------------+------------------+-------------+--------------+-----------+--------------+------------+---------+--------+---------+--------------+-------------------+---------------------------------+------------------------+-------------------------------+----------------------+--------------------------+----------------------------+--------------------+-------------------+----------------------------+-------------------------+----------------+-----------------+\n|               legId|         searchDate|         flightDate|startingAirport|destinationAirport|fareBasisCode|travelDuration|elapsedDays|isBasicEconomy|isRefundable|isNonStop|baseFare|totalFare|seatsRemaining|totalTravelDistance|segmentsDepartureTimeEpochSeconds|segmentsDepartureTimeRaw|segmentsArrivalTimeEpochSeconds|segmentsArrivalTimeRaw|segmentsArrivalAirportCode|segmentsDepartureAirportCode| segmentsAirlineName|segmentsAirlineCode|segmentsEquipmentDescription|segmentsDurationInSeconds|segmentsDistance|segmentsCabinCode|\n+--------------------+-------------------+-------------------+---------------+------------------+-------------+--------------+-----------+--------------+------------+---------+--------+---------+--------------+-------------------+---------------------------------+------------------------+-------------------------------+----------------------+--------------------------+----------------------------+--------------------+-------------------+----------------------------+-------------------------+----------------+-----------------+\n|d8a74945102b8e120...|2022-04-16 00:00:00|2022-04-17 00:00:00|            LAX|               ATL|      E00PXP5|       PT8H11M|          1|         false|       false|    false|  214.32|   253.99|             4|             2034.0|             1650245100||16502...|    2022-04-17T18:25:...|           1650253260||16502...|  2022-04-17T21:41:...|                  DEN||ATL|                    ONT||DEN|Frontier Airlines...|             F9||F9|               Airbus A321|||              8160||10320|       827||1207|     coach||coach|\n|ac2edb3ea2542898a...|2022-04-16 00:00:00|2022-04-17 00:00:00|            LAX|               ATL|          KNR|        PT4H4M|          1|         false|       false|     true|   272.0|   328.59|             0|               null|                       1650261000|    2022-04-17T22:50:...|                     1650275640|  2022-04-18T05:54:...|                       ATL|                         LAX|     Spirit Airlines|                 NK|        AIRBUS INDUSTRIE ...|                    14640|            null|            coach|\n|c87e7ad7cb1175da0...|2022-04-16 00:00:00|2022-04-17 00:00:00|            LAX|               ATL|          KNR|        PT4H7M|          1|         false|       false|     true|   272.0|   328.59|             0|               null|                       1650241200|    2022-04-17T17:20:...|                     1650256020|  2022-04-18T00:27:...|                       ATL|                         LAX|     Spirit Airlines|                 NK|        AIRBUS INDUSTRIE ...|                    14820|            null|            coach|\n|4bdb08c6d8f71b32d...|2022-04-16 00:00:00|2022-04-17 00:00:00|            LAX|               ATL|     RH0AUEL1|       PT7H59M|          0|         false|       false|    false|  290.24|   335.61|             7|             2920.0|             1650219600||16502...|    2022-04-17T11:20:...|           1650238260||16502...|  2022-04-17T19:31:...|                  FLL||ATL|                    LAX||FLL|JetBlue Airways||...|             B6||B6|        Airbus A319-321||...|              18660||7140|       2338||582|     coach||coach|\n|4a79ba4b77aada237...|2022-04-16 00:00:00|2022-04-17 00:00:00|            LAX|               ATL|     VAA0AFEN|       PT6H15M|          0|         false|       false|    false|   310.7|    357.6|             9|             2034.0|             1650227220||16502...|    2022-04-17T13:27:...|           1650235140||16502...|  2022-04-17T16:39:...|                  DEN||ATL|                    ONT||DEN|      United||United|             UA||UA|        Boeing 737-800||A...|              7920||10620|       827||1207|     coach||coach|\n|b5e5fa70deaf3eae8...|2022-04-16 00:00:00|2022-04-17 00:00:00|            LAX|               ATL|     QAA0AFEN|       PT6H51M|          0|         false|       false|    false|   310.7|    357.6|             6|             2055.0|             1650225060||16502...|    2022-04-17T12:51:...|           1650233460||16502...|  2022-04-17T16:11:...|                  DEN||ATL|                    LAX||DEN|      United||United|             UA||UA|        Boeing 737-900||A...|              8400||10620|       848||1207|     coach||coach|\n|4670d954846f1fd7b...|2022-04-16 00:00:00|2022-04-17 00:00:00|            LAX|               ATL|     QAA0AFEN|       PT7H16M|          0|         false|       false|    false|   310.7|    357.6|             4|             2345.0|             1650203100||16502...|    2022-04-17T06:45:...|           1650217740||16502...|  2022-04-17T12:49:...|                  ORD||ATL|                    LAX||ORD|      United||United|             UA||UA|        Boeing 757-300||A...|              14640||7200|       1745||600|     coach||coach|\n|5957bba8e492a7bd7...|2022-04-16 00:00:00|2022-04-17 00:00:00|            LAX|               ATL|     QAA0AFEN|       PT7H31M|          0|         false|       false|    false|   310.7|    357.6|             9|             2055.0|             1650196800||16502...|    2022-04-17T05:00:...|           1650205380||16502...|  2022-04-17T08:23:...|                  DEN||ATL|                    LAX||DEN|      United||United|             UA||UA|        Boeing 757-300||A...|              8580||10560|       848||1207|     coach||coach|\n|4f3368f7d550dd8a6...|2022-04-16 00:00:00|2022-04-17 00:00:00|            LAX|               ATL|     QAA0AFEN|       PT7H36M|          0|         false|       false|    false|   310.7|    357.6|             3|             2074.0|             1650179040||16501...|    2022-04-17T00:04:...|           1650190380||16502...|  2022-04-17T05:13:...|                  IAH||ATL|                    LAX||IAH|      United||United|             UA||UA|        Airbus A320||Embr...|              11340||7500|       1383||691|     coach||coach|\n|f0d69d984c72865d8...|2022-04-16 00:00:00|2022-04-17 00:00:00|            LAX|               ATL|     QAA0AFEN|       PT8H28M|          0|         false|       false|    false|   310.7|    357.6|             9|             2055.0|             1650219240||16502...|    2022-04-17T11:14:...|           1650227640||16502...|  2022-04-17T14:34:...|                  DEN||ATL|                    LAX||DEN|      United||United|             UA||UA|        Boeing 737 MAX 9|...|              8400||10620|       848||1207|     coach||coach|\n|cfdccdec18a41fabb...|2022-04-16 00:00:00|2022-04-17 00:00:00|            LAX|               ATL|     QAA0AFEN|        PT9H8M|          0|         false|       false|    false|   310.7|    357.6|             7|             2074.0|             1650200400||16502...|    2022-04-17T06:00:...|           1650211740||16502...|  2022-04-17T11:09:...|                  IAH||ATL|                    LAX||IAH|      United||United|             UA||UA|        Boeing 737-900||E...|              11340||7800|       1383||691|     coach||coach|\n|5323ac16ebbccf49d...|2022-04-16 00:00:00|2022-04-17 00:00:00|            LAX|               ATL|     V0AGZNN1|       PT6H27M|          0|         false|       false|    false|  322.79|    369.1|             1|             2349.0|             1650213300||16502...|    2022-04-17T09:35:...|           1650230340||16502...|  2022-04-17T17:19:...|                  CLT||ATL|                    LAX||CLT|American Airlines...|             AA||AA|        Airbus A321||Airb...|              17040||4020|       2121||228|     coach||coach|\n|52711fb23380d7dce...|2022-04-16 00:00:00|2022-04-17 00:00:00|            LAX|               ATL|     V0AGZNN1|        PT7H7M|          0|         false|       false|    false|  322.79|    369.1|             4|             2349.0|             1650221400||16502...|    2022-04-17T11:50:...|           1650238320||16502...|  2022-04-17T19:32:...|                  CLT||ATL|                    LAX||CLT|American Airlines...|             AA||AA|        Airbus A321||Airb...|              16920||4560|       2121||228|     coach||coach|\n|390bd0f44d71bf099...|2022-04-16 00:00:00|2022-04-17 00:00:00|            LAX|               ATL|     V0AGZNN1|       PT8H32M|          0|         false|       false|    false|  322.79|    369.1|             3|             2349.0|             1650205800||16502...|    2022-04-17T07:30:...|           1650222840||16502...|  2022-04-17T15:14:...|                  CLT||ATL|                    LAX||CLT|American Airlines...|             AA||AA|        Airbus A321||Airb...|              17040||4020|       2121||228|     coach||coach|\n|69d0c0cfff83b1024...|2022-04-16 00:00:00|2022-04-17 00:00:00|            LAX|               ATL|     V0AIZNN1|        PT6H2M|          0|         false|       false|    false|  322.79|    370.6|             7|             1940.0|             1650232260||16502...|    2022-04-17T14:51:...|           1650242700||16502...|  2022-04-17T19:45:...|                  DFW||ATL|                    ONT||DFW|American Airlines...|             AA||AA|        Airbus A321||Airb...|              10440||7620|       1215||725|     coach||coach|\n|0adc762aa8a57a815...|2022-04-16 00:00:00|2022-04-17 00:00:00|            LAX|               ATL|     V0AGZNN1|       PT6H12M|          0|         false|       false|    false|  322.79|    370.6|             7|             1963.0|             1650231660||16502...|    2022-04-17T14:41:...|           1650242700||16502...|  2022-04-17T19:45:...|                  DFW||ATL|                    LAX||DFW|American Airlines...|             AA||AA|        Airbus A321||Airb...|              11040||7620|       1238||725|     coach||coach|\n|142fa778becacea3c...|2022-04-16 00:00:00|2022-04-17 00:00:00|            LAX|               ATL|     V0AIZNN1|       PT6H16M|          0|         false|       false|    false|  322.79|    370.6|             6|             1940.0|             1650225420||16502...|    2022-04-17T12:57:...|           1650235800||16502...|  2022-04-17T17:50:...|                  DFW||ATL|                    ONT||DFW|American Airlines...|             AA||AA|        Airbus A321||Airb...|              10380||7680|       1215||725|     coach||coach|\n|3b8b2b7a87fe1652b...|2022-04-16 00:00:00|2022-04-17 00:00:00|            LAX|               ATL|     V0AGZNN1|       PT6H24M|          0|         false|       false|    false|  322.79|    370.6|             7|             1963.0|             1650207600||16502...|    2022-04-17T08:00:...|           1650218700||16502...|  2022-04-17T13:05:...|                  DFW||ATL|                    LAX||DFW|American Airlines...|             AA||AA|        Airbus A321||Airb...|              11100||7140|       1238||725|     coach||coach|\n|f5abc5d4fa243e2ee...|2022-04-16 00:00:00|2022-04-17 00:00:00|            LAX|               ATL|     V0AGZNN1|       PT6H28M|          0|         false|       false|    false|  322.79|    370.6|             4|             1963.0|             1650200400||16502...|    2022-04-17T06:00:...|           1650211500||16502...|  2022-04-17T11:05:...|                  DFW||ATL|                    LAX||DFW|American Airlines...|             AA||AA|        Airbus A321||Airb...|              11100||7140|       1238||725|     coach||coach|\n|5e1ff393f37fac535...|2022-04-16 00:00:00|2022-04-17 00:00:00|            LAX|               ATL|     V0AGZNN1|       PT6H38M|          0|         false|       false|    false|  322.79|    370.6|             5|             1963.0|             1650224100||16502...|    2022-04-17T12:35:...|           1650235080||16502...|  2022-04-17T17:38:...|                  DFW||ATL|                    LAX||DFW|American Airlines...|             AA||AA|               ||Airbus A321|              10980||7680|       1238||725|     coach||coach|\n+--------------------+-------------------+-------------------+---------------+------------------+-------------+--------------+-----------+--------------+------------+---------+--------+---------+--------------+-------------------+---------------------------------+------------------------+-------------------------------+----------------------+--------------------------+----------------------------+--------------------+-------------------+----------------------------+-------------------------+----------------+-----------------+\nonly showing top 20 rows\n\n"
     ]
    }
   ],
   "source": [
    "# Load CSV dataset into a Spark DataFrame and display it\n",
    "# File location and type\n",
    "file_location = \"/FileStore/tables/startingAiport_LAX_df.csv\"\n",
    "file_type = \"csv\"\n",
    "\n",
    "# CSV options for reading the data\n",
    "infer_schema = \"true\" # Option to infer the schema (data types) of columns automatically\n",
    "first_row_is_header = \"true\" # Option indicating that the first row contains column names\n",
    "delimiter = \",\" # Delimiter used in the CSV file\n",
    "\n",
    "# The applied options are for CSV files. For other file types, these will be ignored.\n",
    "df = spark.read.format(file_type) \\\n",
    "  .option(\"inferSchema\", infer_schema) \\\n",
    "  .option(\"header\", first_row_is_header) \\\n",
    "  .option(\"sep\", delimiter) \\\n",
    "  .load(file_location)\n",
    "\n",
    "# Display the DataFrame contents\n",
    "df.show()"
   ]
  },
  {
   "cell_type": "code",
   "execution_count": 0,
   "metadata": {
    "application/vnd.databricks.v1+cell": {
     "cellMetadata": {
      "byteLimit": 2048000,
      "rowLimit": 10000
     },
     "inputWidgets": {},
     "nuid": "91e597b4-762f-4927-913e-836776fc2735",
     "showTitle": false,
     "tableResultSettingsMap": {},
     "title": ""
    }
   },
   "outputs": [
    {
     "output_type": "stream",
     "name": "stdout",
     "output_type": "stream",
     "text": [
      "root\n |-- legId: string (nullable = true)\n |-- searchDate: timestamp (nullable = true)\n |-- flightDate: timestamp (nullable = true)\n |-- startingAirport: string (nullable = true)\n |-- destinationAirport: string (nullable = true)\n |-- fareBasisCode: string (nullable = true)\n |-- travelDuration: string (nullable = true)\n |-- elapsedDays: integer (nullable = true)\n |-- isBasicEconomy: boolean (nullable = true)\n |-- isRefundable: boolean (nullable = true)\n |-- isNonStop: boolean (nullable = true)\n |-- baseFare: double (nullable = true)\n |-- totalFare: double (nullable = true)\n |-- seatsRemaining: integer (nullable = true)\n |-- totalTravelDistance: double (nullable = true)\n |-- segmentsDepartureTimeEpochSeconds: string (nullable = true)\n |-- segmentsDepartureTimeRaw: string (nullable = true)\n |-- segmentsArrivalTimeEpochSeconds: string (nullable = true)\n |-- segmentsArrivalTimeRaw: string (nullable = true)\n |-- segmentsArrivalAirportCode: string (nullable = true)\n |-- segmentsDepartureAirportCode: string (nullable = true)\n |-- segmentsAirlineName: string (nullable = true)\n |-- segmentsAirlineCode: string (nullable = true)\n |-- segmentsEquipmentDescription: string (nullable = true)\n |-- segmentsDurationInSeconds: string (nullable = true)\n |-- segmentsDistance: string (nullable = true)\n |-- segmentsCabinCode: string (nullable = true)\n\n"
     ]
    }
   ],
   "source": [
    "# print the schema of the DataFrame df, showing the data types of each column.\n",
    "df.printSchema()"
   ]
  },
  {
   "cell_type": "code",
   "execution_count": 0,
   "metadata": {
    "application/vnd.databricks.v1+cell": {
     "cellMetadata": {
      "byteLimit": 2048000,
      "rowLimit": 10000
     },
     "inputWidgets": {},
     "nuid": "e52fbe7d-07e2-420c-a71a-fac4a2426e1e",
     "showTitle": false,
     "tableResultSettingsMap": {},
     "title": ""
    }
   },
   "outputs": [],
   "source": [
    "# Function to convert ISO 8601 (e.g. PT10H30M) duration string to total number of minutes. This will be used to extract data from specified columns\n",
    "\n",
    "def parse_duration(duration):\n",
    "    import re\n",
    "    match = re.match(r'P(?:(\\d+)D)?(?:T(?:([\\d]+H)?([\\d]+M)?)?)?', duration)\n",
    "\n",
    "    if not match:\n",
    "        raise ValueError(f\"Invalid duration format: {duration}\")\n",
    "    \n",
    "    days = int(match.group(1)) if match.group(1) else 0\n",
    "\n",
    "    hours = int(match.group(2)[:-1]) if match.group(2) and match.group(2) != '' else 0\n",
    "    minutes = int(match.group(3)[:-1]) if match.group(3) and match.group(3) != '' else 0\n",
    "\n",
    "    # Convert the duration to minutes\n",
    "    total_minutes = days * 24 * 60 + hours * 60 + minutes\n",
    "\n",
    "    return total_minutes\n",
    "\n",
    "# Register UDF\n",
    "parse_duration_udf = udf(parse_duration, IntegerType())"
   ]
  },
  {
   "cell_type": "code",
   "execution_count": 0,
   "metadata": {
    "application/vnd.databricks.v1+cell": {
     "cellMetadata": {
      "byteLimit": 2048000,
      "rowLimit": 10000
     },
     "inputWidgets": {},
     "nuid": "c11b93d6-e0b0-48bb-94cc-8465eb5b57ec",
     "showTitle": false,
     "tableResultSettingsMap": {},
     "title": ""
    }
   },
   "outputs": [],
   "source": [
    "# Create new columns with extracted data and handle null values\n",
    "\n",
    "# flightDayOfYear: extract the day of the year\n",
    "df = df.withColumn(\"flightDayOfYear\", dayofyear(col(\"flightDate\").cast(\"date\")))\n",
    "\n",
    "# travelDurationMin: apply UDF to get travel duration in minutes\n",
    "df = df.withColumn(\"travelDurationMin\", parse_duration_udf(col(\"travelDuration\")).cast(DoubleType()))\n",
    "\n",
    "# flightMonth: extract month from flightDate\n",
    "df = df.withColumn(\"flightMonth\", month(\"flightDate\"))\n",
    "\n",
    "# flightYear: extract flight year\n",
    "df = df.withColumn(\"flightYear\", year(\"flightDate\"))\n",
    "\n",
    "# SearchDayoftheYear: extract Day from searchDate\n",
    "df = df.withColumn(\"SearchDayoftheYear\", dayofyear(col(\"searchDate\").cast(\"date\")))\n",
    "\n",
    "# Handles any potential null values by filling the values with 0\n",
    "df = df.na.fill(0)  # Fill nulls if any"
   ]
  },
  {
   "cell_type": "code",
   "execution_count": 0,
   "metadata": {
    "application/vnd.databricks.v1+cell": {
     "cellMetadata": {
      "byteLimit": 2048000,
      "rowLimit": 10000
     },
     "inputWidgets": {},
     "nuid": "90f957c5-6d40-4d6b-9123-4021c95937f7",
     "showTitle": false,
     "tableResultSettingsMap": {},
     "title": ""
    }
   },
   "outputs": [],
   "source": [
    "# Drop the columns that are not going to be used\n",
    "df = df.drop(\"legID\",\"segmentsDepartureTimeEpochSeconds\",\"segmentsArrivalTimeEpochSeconds\",\"segmentsArrivalAirportCode\",\"segmentsDepartureAirportCode\",\"segmentsAirlineName\",\"segmentsAirlineCode\",\"segmentsEquipmentDescription\",\"segmentsDurationInSeconds\",\"segmentsDistance\",\"segmentsCabinCode\",\"segmentsCabinCode\",\"segmentsDistance\",\"segmentsDurationInSeconds\",\"segmentsArrivalTimeRaw\",\"segmentsDepartureTimeRaw\",\"segmentsAirlineCode:\",\"startingAirport\",)"
   ]
  },
  {
   "cell_type": "code",
   "execution_count": 0,
   "metadata": {
    "application/vnd.databricks.v1+cell": {
     "cellMetadata": {
      "byteLimit": 2048000,
      "rowLimit": 10000
     },
     "inputWidgets": {},
     "nuid": "29ac0a68-62fc-4b07-9d66-2ba4bdcdedd1",
     "showTitle": false,
     "tableResultSettingsMap": {},
     "title": ""
    }
   },
   "outputs": [
    {
     "output_type": "stream",
     "name": "stdout",
     "output_type": "stream",
     "text": [
      "root\n |-- searchDate: timestamp (nullable = true)\n |-- flightDate: timestamp (nullable = true)\n |-- destinationAirport: string (nullable = true)\n |-- fareBasisCode: string (nullable = true)\n |-- travelDuration: string (nullable = true)\n |-- elapsedDays: integer (nullable = true)\n |-- isBasicEconomy: boolean (nullable = true)\n |-- isRefundable: boolean (nullable = true)\n |-- isNonStop: boolean (nullable = true)\n |-- baseFare: double (nullable = false)\n |-- totalFare: double (nullable = false)\n |-- seatsRemaining: integer (nullable = true)\n |-- totalTravelDistance: double (nullable = false)\n |-- flightDayOfYear: integer (nullable = true)\n |-- travelDurationMin: double (nullable = false)\n |-- flightMonth: integer (nullable = true)\n |-- flightYear: integer (nullable = true)\n |-- SearchDayoftheYear: integer (nullable = true)\n\n+-------------------+-------------------+------------------+-------------+--------------+-----------+--------------+------------+---------+--------+---------+--------------+-------------------+---------------+-----------------+-----------+----------+------------------+\n|         searchDate|         flightDate|destinationAirport|fareBasisCode|travelDuration|elapsedDays|isBasicEconomy|isRefundable|isNonStop|baseFare|totalFare|seatsRemaining|totalTravelDistance|flightDayOfYear|travelDurationMin|flightMonth|flightYear|SearchDayoftheYear|\n+-------------------+-------------------+------------------+-------------+--------------+-----------+--------------+------------+---------+--------+---------+--------------+-------------------+---------------+-----------------+-----------+----------+------------------+\n|2022-04-16 00:00:00|2022-04-17 00:00:00|               ATL|      E00PXP5|       PT8H11M|          1|         false|       false|    false|  214.32|   253.99|             4|             2034.0|            107|            491.0|          4|      2022|               106|\n|2022-04-16 00:00:00|2022-04-17 00:00:00|               ATL|          KNR|        PT4H4M|          1|         false|       false|     true|   272.0|   328.59|             0|                0.0|            107|            244.0|          4|      2022|               106|\n|2022-04-16 00:00:00|2022-04-17 00:00:00|               ATL|          KNR|        PT4H7M|          1|         false|       false|     true|   272.0|   328.59|             0|                0.0|            107|            247.0|          4|      2022|               106|\n|2022-04-16 00:00:00|2022-04-17 00:00:00|               ATL|     RH0AUEL1|       PT7H59M|          0|         false|       false|    false|  290.24|   335.61|             7|             2920.0|            107|            479.0|          4|      2022|               106|\n|2022-04-16 00:00:00|2022-04-17 00:00:00|               ATL|     VAA0AFEN|       PT6H15M|          0|         false|       false|    false|   310.7|    357.6|             9|             2034.0|            107|            375.0|          4|      2022|               106|\n|2022-04-16 00:00:00|2022-04-17 00:00:00|               ATL|     QAA0AFEN|       PT6H51M|          0|         false|       false|    false|   310.7|    357.6|             6|             2055.0|            107|            411.0|          4|      2022|               106|\n|2022-04-16 00:00:00|2022-04-17 00:00:00|               ATL|     QAA0AFEN|       PT7H16M|          0|         false|       false|    false|   310.7|    357.6|             4|             2345.0|            107|            436.0|          4|      2022|               106|\n|2022-04-16 00:00:00|2022-04-17 00:00:00|               ATL|     QAA0AFEN|       PT7H31M|          0|         false|       false|    false|   310.7|    357.6|             9|             2055.0|            107|            451.0|          4|      2022|               106|\n|2022-04-16 00:00:00|2022-04-17 00:00:00|               ATL|     QAA0AFEN|       PT7H36M|          0|         false|       false|    false|   310.7|    357.6|             3|             2074.0|            107|            456.0|          4|      2022|               106|\n|2022-04-16 00:00:00|2022-04-17 00:00:00|               ATL|     QAA0AFEN|       PT8H28M|          0|         false|       false|    false|   310.7|    357.6|             9|             2055.0|            107|            508.0|          4|      2022|               106|\n+-------------------+-------------------+------------------+-------------+--------------+-----------+--------------+------------+---------+--------+---------+--------------+-------------------+---------------+-----------------+-----------+----------+------------------+\nonly showing top 10 rows\n\n"
     ]
    }
   ],
   "source": [
    "# print the schema of the DataFrame, df, showing the data types of each column\n",
    "df.printSchema()\n",
    "#  display the first 10 rows of the DataFrame in a tabular format\n",
    "df.show(10)"
   ]
  },
  {
   "cell_type": "code",
   "execution_count": 0,
   "metadata": {
    "application/vnd.databricks.v1+cell": {
     "cellMetadata": {
      "byteLimit": 2048000,
      "rowLimit": 10000
     },
     "inputWidgets": {},
     "nuid": "65cc0606-2279-44f7-bcd3-1ee59f852731",
     "showTitle": false,
     "tableResultSettingsMap": {},
     "title": ""
    }
   },
   "outputs": [
    {
     "output_type": "stream",
     "name": "stdout",
     "output_type": "stream",
     "text": [
      "root\n |-- searchDate: timestamp (nullable = true)\n |-- flightDate: timestamp (nullable = true)\n |-- destinationAirport: string (nullable = true)\n |-- fareBasisCode: string (nullable = true)\n |-- travelDuration: string (nullable = true)\n |-- elapsedDays: integer (nullable = true)\n |-- isBasicEconomy: boolean (nullable = true)\n |-- isRefundable: boolean (nullable = true)\n |-- isNonStop: boolean (nullable = true)\n |-- baseFare: double (nullable = false)\n |-- totalFare: double (nullable = false)\n |-- seatsRemaining: integer (nullable = true)\n |-- totalTravelDistance: double (nullable = false)\n |-- flightDayOfYear: integer (nullable = true)\n |-- travelDurationMin: double (nullable = false)\n |-- flightMonth: integer (nullable = true)\n |-- flightYear: integer (nullable = true)\n |-- SearchDayoftheYear: integer (nullable = true)\n |-- destinationAirportId: double (nullable = false)\n\n"
     ]
    }
   ],
   "source": [
    "# Create a StringIndexer to convert the categorical feature \"destinationAirport\" into numerical indices. Print the schema of the newly created dataFrame\n",
    "indexer = StringIndexer(inputCols=[\"destinationAirport\"], outputCols=[\"destinationAirportId\"])\n",
    "df = indexer.fit(df).transform(df)\n",
    "df.printSchema()"
   ]
  },
  {
   "cell_type": "code",
   "execution_count": 0,
   "metadata": {
    "application/vnd.databricks.v1+cell": {
     "cellMetadata": {
      "byteLimit": 2048000,
      "rowLimit": 10000
     },
     "inputWidgets": {},
     "nuid": "ea85f3da-7c5a-426e-8a7c-341543719d86",
     "showTitle": false,
     "tableResultSettingsMap": {},
     "title": ""
    }
   },
   "outputs": [],
   "source": [
    "# names of the features (columns) from the DataFrame that will be used as features for training a machine learning model\n",
    "cols = [\n",
    "    \"flightDayOfYear\",\n",
    "    \"elapsedDays\",\n",
    "    \"isBasicEconomy\",\n",
    "    \"isRefundable\",\n",
    "    \"isNonStop\",\n",
    "    \"destinationAirportId\", \n",
    "    \"seatsRemaining\",\n",
    "    \"totalTravelDistance\",\n",
    "    \"travelDurationMin\",\n",
    "    \"baseFare\"   \n",
    "]"
   ]
  },
  {
   "cell_type": "code",
   "execution_count": 0,
   "metadata": {
    "application/vnd.databricks.v1+cell": {
     "cellMetadata": {
      "byteLimit": 2048000,
      "rowLimit": 10000
     },
     "inputWidgets": {},
     "nuid": "99baf59e-410a-4200-abfe-93eaacabb2cf",
     "showTitle": false,
     "tableResultSettingsMap": {},
     "title": ""
    }
   },
   "outputs": [
    {
     "output_type": "stream",
     "name": "stdout",
     "output_type": "stream",
     "text": [
      "Training Rows: 69657 Testing Rows: 29605\n"
     ]
    }
   ],
   "source": [
    "# Split the data in DataFrame, df2,  into training and testing sets using random sampling\n",
    "\n",
    "splits = df.randomSplit([0.7,0.3]) \n",
    "train = splits[0] # assigns the first element of the splits array to the variable. set the training set\n",
    "test = splits[1] # assigns the second element of the splits array to the variable. set the testing set\n",
    "train_rows = train.count()\n",
    "test_rows = test.count() \n",
    "print(\"Training Rows:\", train_rows, \"Testing Rows:\", test_rows) "
   ]
  },
  {
   "cell_type": "markdown",
   "metadata": {
    "application/vnd.databricks.v1+cell": {
     "cellMetadata": {
      "byteLimit": 2048000,
      "rowLimit": 10000
     },
     "inputWidgets": {},
     "nuid": "29ca3f38-959b-4674-965b-0f4b37655f3c",
     "showTitle": false,
     "tableResultSettingsMap": {},
     "title": ""
    }
   },
   "source": [
    "## Feature Importance"
   ]
  },
  {
   "cell_type": "code",
   "execution_count": 0,
   "metadata": {
    "application/vnd.databricks.v1+cell": {
     "cellMetadata": {
      "byteLimit": 2048000,
      "rowLimit": 10000
     },
     "inputWidgets": {},
     "nuid": "86cc57e7-fbb1-4424-a38b-b7643897ae31",
     "showTitle": false,
     "tableResultSettingsMap": {},
     "title": ""
    }
   },
   "outputs": [
    {
     "output_type": "display_data",
     "data": {
      "text/html": [
       "<div>\n",
       "<style scoped>\n",
       "    .dataframe tbody tr th:only-of-type {\n",
       "        vertical-align: middle;\n",
       "    }\n",
       "\n",
       "    .dataframe tbody tr th {\n",
       "        vertical-align: top;\n",
       "    }\n",
       "\n",
       "    .dataframe thead th {\n",
       "        text-align: right;\n",
       "    }\n",
       "</style>\n",
       "<table border=\"1\" class=\"dataframe\">\n",
       "  <thead>\n",
       "    <tr style=\"text-align: right;\">\n",
       "      <th></th>\n",
       "      <th>normFeatures</th>\n",
       "      <th>importance</th>\n",
       "    </tr>\n",
       "  </thead>\n",
       "  <tbody>\n",
       "    <tr>\n",
       "      <th>9</th>\n",
       "      <td>baseFare</td>\n",
       "      <td>0.652852</td>\n",
       "    </tr>\n",
       "    <tr>\n",
       "      <th>6</th>\n",
       "      <td>seatsRemaining</td>\n",
       "      <td>0.099599</td>\n",
       "    </tr>\n",
       "    <tr>\n",
       "      <th>5</th>\n",
       "      <td>destinationAirportId</td>\n",
       "      <td>0.080199</td>\n",
       "    </tr>\n",
       "    <tr>\n",
       "      <th>7</th>\n",
       "      <td>totalTravelDistance</td>\n",
       "      <td>0.062988</td>\n",
       "    </tr>\n",
       "    <tr>\n",
       "      <th>8</th>\n",
       "      <td>travelDurationMin</td>\n",
       "      <td>0.055732</td>\n",
       "    </tr>\n",
       "    <tr>\n",
       "      <th>0</th>\n",
       "      <td>flightDayOfYear</td>\n",
       "      <td>0.040096</td>\n",
       "    </tr>\n",
       "    <tr>\n",
       "      <th>1</th>\n",
       "      <td>elapsedDays</td>\n",
       "      <td>0.007007</td>\n",
       "    </tr>\n",
       "    <tr>\n",
       "      <th>4</th>\n",
       "      <td>isNonStop</td>\n",
       "      <td>0.001429</td>\n",
       "    </tr>\n",
       "    <tr>\n",
       "      <th>2</th>\n",
       "      <td>isBasicEconomy</td>\n",
       "      <td>0.000097</td>\n",
       "    </tr>\n",
       "    <tr>\n",
       "      <th>3</th>\n",
       "      <td>isRefundable</td>\n",
       "      <td>0.000000</td>\n",
       "    </tr>\n",
       "  </tbody>\n",
       "</table>\n",
       "</div>"
      ]
     },
     "metadata": {
      "application/vnd.databricks.v1+output": {
       "addedWidgets": {},
       "arguments": {},
       "data": "<div>\n<style scoped>\n    .dataframe tbody tr th:only-of-type {\n        vertical-align: middle;\n    }\n\n    .dataframe tbody tr th {\n        vertical-align: top;\n    }\n\n    .dataframe thead th {\n        text-align: right;\n    }\n</style>\n<table border=\"1\" class=\"dataframe\">\n  <thead>\n    <tr style=\"text-align: right;\">\n      <th></th>\n      <th>normFeatures</th>\n      <th>importance</th>\n    </tr>\n  </thead>\n  <tbody>\n    <tr>\n      <th>9</th>\n      <td>baseFare</td>\n      <td>0.652852</td>\n    </tr>\n    <tr>\n      <th>6</th>\n      <td>seatsRemaining</td>\n      <td>0.099599</td>\n    </tr>\n    <tr>\n      <th>5</th>\n      <td>destinationAirportId</td>\n      <td>0.080199</td>\n    </tr>\n    <tr>\n      <th>7</th>\n      <td>totalTravelDistance</td>\n      <td>0.062988</td>\n    </tr>\n    <tr>\n      <th>8</th>\n      <td>travelDurationMin</td>\n      <td>0.055732</td>\n    </tr>\n    <tr>\n      <th>0</th>\n      <td>flightDayOfYear</td>\n      <td>0.040096</td>\n    </tr>\n    <tr>\n      <th>1</th>\n      <td>elapsedDays</td>\n      <td>0.007007</td>\n    </tr>\n    <tr>\n      <th>4</th>\n      <td>isNonStop</td>\n      <td>0.001429</td>\n    </tr>\n    <tr>\n      <th>2</th>\n      <td>isBasicEconomy</td>\n      <td>0.000097</td>\n    </tr>\n    <tr>\n      <th>3</th>\n      <td>isRefundable</td>\n      <td>0.000000</td>\n    </tr>\n  </tbody>\n</table>\n</div>",
       "datasetInfos": [],
       "metadata": {},
       "removedWidgets": [],
       "textData": null,
       "type": "htmlSandbox"
      }
     },
     "output_type": "display_data"
    }
   ],
   "source": [
    "# Feature Important for Gradient Boosted\n",
    "assemblerGBT = VectorAssembler(inputCols = cols, outputCol = \"features\")\n",
    "\n",
    "minMaxGBT = MinMaxScaler(inputCol = assemblerGBT.getOutputCol(), outputCol = \"normFeatures\")\n",
    "\n",
    "gbt_FI = GBTRegressor(labelCol = \"totalFare\", featuresCol = \"normFeatures\")\n",
    "\n",
    "pipeline_FI_GBT = Pipeline(stages=[assemblerGBT, minMaxGBT, gbt_FI])\n",
    "\n",
    "modelGBT = pipeline_FI_GBT.fit(train)\n",
    "\n",
    "model_FI_GBT = modelGBT.stages[-1]\n",
    "\n",
    "featureImpGBT = pd.DataFrame(list(zip(assemblerGBT.getInputCols(),\n",
    "                                   model_FI_GBT.featureImportances)),\n",
    "                          columns=[\"normFeatures\", \"importance\"])\n",
    "featureImpGBT.sort_values(by=\"importance\", ascending=False)"
   ]
  },
  {
   "cell_type": "markdown",
   "metadata": {
    "application/vnd.databricks.v1+cell": {
     "cellMetadata": {
      "byteLimit": 2048000,
      "rowLimit": 10000
     },
     "inputWidgets": {},
     "nuid": "4cc5c625-0904-4d6f-a096-431739c6509a",
     "showTitle": false,
     "tableResultSettingsMap": {},
     "title": ""
    }
   },
   "source": [
    "### Model : Gradient Boosted Decision Trees"
   ]
  },
  {
   "cell_type": "code",
   "execution_count": 0,
   "metadata": {
    "application/vnd.databricks.v1+cell": {
     "cellMetadata": {
      "byteLimit": 2048000,
      "rowLimit": 10000
     },
     "inputWidgets": {},
     "nuid": "8fae6859-9a70-423f-a8c5-222a493914ef",
     "showTitle": false,
     "tableResultSettingsMap": {},
     "title": ""
    }
   },
   "outputs": [],
   "source": [
    "# Create a VectorAssembler to combine input columns into a single feature vector\n",
    "assemblerGBT =  VectorAssembler(\n",
    "    inputCols=cols,\n",
    "    outputCol=\"features\"\n",
    ")"
   ]
  },
  {
   "cell_type": "code",
   "execution_count": 0,
   "metadata": {
    "application/vnd.databricks.v1+cell": {
     "cellMetadata": {
      "byteLimit": 2048000,
      "rowLimit": 10000
     },
     "inputWidgets": {},
     "nuid": "57f0badc-bcaa-4e41-95c9-0b1164948944",
     "showTitle": false,
     "tableResultSettingsMap": {},
     "title": ""
    }
   },
   "outputs": [],
   "source": [
    "# Create a Gradient Boosted Trees Regressor (GBT) model\n",
    "gbt = GBTRegressor(labelCol=\"totalFare\", featuresCol=\"features\")"
   ]
  },
  {
   "cell_type": "code",
   "execution_count": 0,
   "metadata": {
    "application/vnd.databricks.v1+cell": {
     "cellMetadata": {
      "byteLimit": 2048000,
      "rowLimit": 10000
     },
     "inputWidgets": {},
     "nuid": "0486aafc-7742-4707-8c7c-3cee9058b47c",
     "showTitle": false,
     "tableResultSettingsMap": {},
     "title": ""
    }
   },
   "outputs": [],
   "source": [
    "# Create a parameter grid for tuning the Gradient Boosted Trees (GBT) model\n",
    "paramGridGBT = (ParamGridBuilder()\n",
    "             .addGrid(gbt.maxDepth, [7])  # Test tree depths 5 and 10\n",
    "             .addGrid(gbt.maxBins, [25])  # Number of bins\n",
    "             .addGrid(gbt.maxIter, [15])  # Number of trees\n",
    "             .build())"
   ]
  },
  {
   "cell_type": "code",
   "execution_count": 0,
   "metadata": {
    "application/vnd.databricks.v1+cell": {
     "cellMetadata": {
      "byteLimit": 2048000,
      "rowLimit": 10000
     },
     "inputWidgets": {},
     "nuid": "2052db8c-cb58-491f-b3be-0db221a6f366",
     "showTitle": false,
     "tableResultSettingsMap": {},
     "title": ""
    }
   },
   "outputs": [],
   "source": [
    "# Create a RegressionEvaluator to evaluate the model's performance using R2 score\n",
    "gbt_evaluator = RegressionEvaluator(predictionCol=\"prediction\", \n",
    "                                    labelCol=\"totalFare\",\n",
    "                                    metricName=\"r2\")"
   ]
  },
  {
   "cell_type": "code",
   "execution_count": 0,
   "metadata": {
    "application/vnd.databricks.v1+cell": {
     "cellMetadata": {
      "byteLimit": 2048000,
      "rowLimit": 10000
     },
     "inputWidgets": {},
     "nuid": "fac0c309-e508-43e4-b0a2-b514f504072e",
     "showTitle": false,
     "tableResultSettingsMap": {},
     "title": ""
    }
   },
   "outputs": [],
   "source": [
    "\n",
    "# Create a pipeline for the Gradient Boosted Trees (GBT) model, combining feature assembly and model fitting\n",
    "gbt_pipeline = Pipeline(stages=[assemblerGBT, gbt])\n"
   ]
  },
  {
   "cell_type": "code",
   "execution_count": 0,
   "metadata": {
    "application/vnd.databricks.v1+cell": {
     "cellMetadata": {
      "byteLimit": 2048000,
      "rowLimit": 10000
     },
     "inputWidgets": {},
     "nuid": "07ca891b-b491-43ab-a701-3980872273cf",
     "showTitle": false,
     "tableResultSettingsMap": {},
     "title": ""
    }
   },
   "outputs": [],
   "source": [
    "# Start time to check how long it takes for TrainValidationSplit for Gradient Boosted Trees to run\n",
    "start = time.time()"
   ]
  },
  {
   "cell_type": "code",
   "execution_count": 0,
   "metadata": {
    "application/vnd.databricks.v1+cell": {
     "cellMetadata": {
      "byteLimit": 2048000,
      "rowLimit": 10000
     },
     "inputWidgets": {},
     "nuid": "c5b3515c-21aa-4dae-96e1-c3d80edb4b16",
     "showTitle": false,
     "tableResultSettingsMap": {},
     "title": ""
    }
   },
   "outputs": [],
   "source": [
    "# Create a TrainValidationSplit for hyperparameter tuning and model evaluation using the GBT pipeline\n",
    "gbt_tv = TrainValidationSplit(estimator=gbt_pipeline, \n",
    "                          evaluator= gbt_evaluator,\n",
    "                          estimatorParamMaps=paramGridGBT,\n",
    "                          trainRatio=0.75)"
   ]
  },
  {
   "cell_type": "code",
   "execution_count": 0,
   "metadata": {
    "application/vnd.databricks.v1+cell": {
     "cellMetadata": {
      "byteLimit": 2048000,
      "rowLimit": 10000
     },
     "inputWidgets": {},
     "nuid": "5fce9280-c19b-455e-92c6-c42b3ad93c31",
     "showTitle": false,
     "tableResultSettingsMap": {},
     "title": ""
    }
   },
   "outputs": [],
   "source": [
    "# Train the Gradient Boosted Trees (GBT) model using TrainValidationSplit and the training data\n",
    "model_gbt_tv = gbt_tv.fit(train)"
   ]
  },
  {
   "cell_type": "code",
   "execution_count": 0,
   "metadata": {
    "application/vnd.databricks.v1+cell": {
     "cellMetadata": {
      "byteLimit": 2048000,
      "rowLimit": 10000
     },
     "inputWidgets": {},
     "nuid": "f5d5b092-904e-40b6-90a5-15eb6468e3aa",
     "showTitle": false,
     "tableResultSettingsMap": {},
     "title": ""
    }
   },
   "outputs": [
    {
     "output_type": "stream",
     "name": "stdout",
     "output_type": "stream",
     "text": [
      "Gradient Boosted Trees using TrainValidationSplit takes 180.690092086792 seconds\n"
     ]
    }
   ],
   "source": [
    "end = time.time()\n",
    "phrase = 'Gradient Boosted Trees using TrainValidationSplit'\n",
    "print('{} takes {} seconds'.format(phrase, end-start))"
   ]
  },
  {
   "cell_type": "code",
   "execution_count": 0,
   "metadata": {
    "application/vnd.databricks.v1+cell": {
     "cellMetadata": {
      "byteLimit": 2048000,
      "rowLimit": 10000
     },
     "inputWidgets": {},
     "nuid": "9ed3e9c3-40d8-41d8-bae2-b3cc9090942e",
     "showTitle": false,
     "tableResultSettingsMap": {},
     "title": ""
    }
   },
   "outputs": [
    {
     "output_type": "stream",
     "name": "stdout",
     "output_type": "stream",
     "text": [
      "+--------------------+------------------+---------+\n|            features|        prediction|totalFare|\n+--------------------+------------------+---------+\n|[107.0,0.0,0.0,0....|493.48081895684936|    498.6|\n|[107.0,1.0,0.0,0....| 448.6191440605508|    448.6|\n|[107.0,1.0,0.0,0....| 862.4584446618148|    711.6|\n|[107.0,0.0,0.0,0....|  396.694126526188|    402.2|\n|[107.0,0.0,0.0,0....| 607.5373001157357|    791.6|\n|[107.0,1.0,0.0,0....| 725.4300010886788|    797.2|\n|[107.0,1.0,0.0,0....|352.09362259997084|   328.59|\n|[107.0,1.0,0.0,0....|  566.612055338212|    561.2|\n|[107.0,1.0,0.0,0....|  566.612055338212|    561.2|\n|[107.0,1.0,0.0,0....| 602.9179298957365|    621.6|\n|[107.0,0.0,0.0,0....| 595.7356948912677|   598.61|\n|[107.0,1.0,0.0,0....| 595.7356948912677|   598.61|\n|[107.0,0.0,0.0,0....| 595.7356948912677|   598.61|\n|[107.0,0.0,0.0,0....| 595.7356948912677|   598.61|\n|[107.0,0.0,0.0,0....| 595.7356948912677|   598.61|\n|[107.0,1.0,0.0,0....| 595.7356948912677|   598.61|\n|(10,[0,1,5,8,9],[...| 398.1437205121827|   410.58|\n|(10,[0,1,5,8,9],[...|412.11606115623334|   457.07|\n|[107.0,0.0,0.0,0....| 560.4717104641144|    555.6|\n|[107.0,1.0,0.0,0....| 655.0027220705393|   787.59|\n+--------------------+------------------+---------+\nonly showing top 20 rows\n\n"
     ]
    }
   ],
   "source": [
    "# Use the trained model to make predictions on the test set\n",
    "prediction_gbt_tv = model_gbt_tv.transform(test)\n",
    "\n",
    "# Select the relevant columns from the prediction output: features, predicted values, and actual target (totalFare)\n",
    "predicted_gbt_tv = prediction_gbt_tv.select(\"features\", \"prediction\", \"totalFare\")\n",
    "\n",
    "# Display the predictions (features, predicted totalFare, and actual totalFare)\n",
    "predicted_gbt_tv.show() "
   ]
  },
  {
   "cell_type": "code",
   "execution_count": 0,
   "metadata": {
    "application/vnd.databricks.v1+cell": {
     "cellMetadata": {
      "byteLimit": 2048000,
      "rowLimit": 10000
     },
     "inputWidgets": {},
     "nuid": "dcb57ae5-fa0f-4849-b9f2-2380fe5449d9",
     "showTitle": false,
     "tableResultSettingsMap": {},
     "title": ""
    }
   },
   "outputs": [
    {
     "output_type": "stream",
     "name": "stdout",
     "output_type": "stream",
     "text": [
      "Train Validation Split for Gradient Boosted Trees\nCoefficient of Determination (R2) for GBT:  0.9431012402896969\nRoot Mean Square Error (RMSE) for GBT:  53.883927972244294\n"
     ]
    }
   ],
   "source": [
    "# Create a RegressionEvaluator to calculate R-squared (coefficient of determination) for GBT\n",
    "gbt_evaluator_tv_r2 = RegressionEvaluator(labelCol=\"totalFare\",\n",
    "                                             predictionCol=\"prediction\",\n",
    "                                             metricName=\"r2\") \n",
    "r2_gbt_tv = gbt_evaluator_tv_r2.evaluate(prediction_gbt_tv)\n",
    " \n",
    "\n",
    "# Create RegressionEvaluator to calculate RMSE (Root Mean Square Error) for GBT\n",
    "gbt_evaluator_tv_rmse = RegressionEvaluator(labelCol=\"totalFare\",\n",
    "                                               predictionCol=\"prediction\",\n",
    "                                               metricName=\"rmse\") \n",
    "rmse_gbt_tv = gbt_evaluator_tv_rmse.evaluate(prediction_gbt_tv);\n",
    "\n",
    "# Print the results of R2 and RMSE for Gradient Boosted Decision Trees model using TrainValidationSplit\n",
    "print(\"Train Validation Split for Gradient Boosted Trees\")\n",
    "print(\"Coefficient of Determination (R2) for GBT: \", r2_gbt_tv)\n",
    "print(\"Root Mean Square Error (RMSE) for GBT: \", rmse_gbt_tv)"
   ]
  },
  {
   "cell_type": "code",
   "execution_count": 0,
   "metadata": {
    "application/vnd.databricks.v1+cell": {
     "cellMetadata": {
      "byteLimit": 2048000,
      "rowLimit": 10000
     },
     "inputWidgets": {},
     "nuid": "d6d0440c-15ed-4600-962f-b9e4684e0c04",
     "showTitle": false,
     "tableResultSettingsMap": {},
     "title": ""
    }
   },
   "outputs": [],
   "source": [
    "# Start time to check how long it takes for CrossValidation for Gradient Boosted Trees to run\n",
    "start = time.time()"
   ]
  },
  {
   "cell_type": "code",
   "execution_count": 0,
   "metadata": {
    "application/vnd.databricks.v1+cell": {
     "cellMetadata": {
      "byteLimit": 2048000,
      "rowLimit": 10000
     },
     "inputWidgets": {},
     "nuid": "2aa3896e-36a7-4346-bd36-ab21ac6d9838",
     "showTitle": false,
     "tableResultSettingsMap": {},
     "title": ""
    }
   },
   "outputs": [],
   "source": [
    "# Define the CrossValidator for GBT\n",
    "gbt_cv = CrossValidator(estimator=gbt_pipeline, \n",
    "                        evaluator= gbt_evaluator, \n",
    "                        estimatorParamMaps=paramGridGBT, \n",
    "                        numFolds=3) "
   ]
  },
  {
   "cell_type": "code",
   "execution_count": 0,
   "metadata": {
    "application/vnd.databricks.v1+cell": {
     "cellMetadata": {
      "byteLimit": 2048000,
      "rowLimit": 10000
     },
     "inputWidgets": {},
     "nuid": "ad33a795-ef03-483f-bc53-b4762e3e184a",
     "showTitle": false,
     "tableResultSettingsMap": {},
     "title": ""
    }
   },
   "outputs": [],
   "source": [
    "# Train the Gradient Boosted Trees (GBT) model using Cross Validation and the training data\n",
    "model_gbt_cv = gbt_cv.fit(train)"
   ]
  },
  {
   "cell_type": "code",
   "execution_count": 0,
   "metadata": {
    "application/vnd.databricks.v1+cell": {
     "cellMetadata": {
      "byteLimit": 2048000,
      "rowLimit": 10000
     },
     "inputWidgets": {},
     "nuid": "6c1279dd-c904-452a-b9dd-c18580ed5bd0",
     "showTitle": false,
     "tableResultSettingsMap": {},
     "title": ""
    }
   },
   "outputs": [
    {
     "output_type": "stream",
     "name": "stdout",
     "output_type": "stream",
     "text": [
      "Gradient Boosted Trees using CrossValidation takes 349.2668538093567 seconds\n"
     ]
    }
   ],
   "source": [
    "end = time.time()\n",
    "phrase = 'Gradient Boosted Trees using CrossValidation'\n",
    "print('{} takes {} seconds'.format(phrase, end-start))"
   ]
  },
  {
   "cell_type": "code",
   "execution_count": 0,
   "metadata": {
    "application/vnd.databricks.v1+cell": {
     "cellMetadata": {
      "byteLimit": 2048000,
      "rowLimit": 10000
     },
     "inputWidgets": {},
     "nuid": "f34f685c-aa0e-412b-ac8b-dbc604ee6e3f",
     "showTitle": false,
     "tableResultSettingsMap": {},
     "title": ""
    }
   },
   "outputs": [
    {
     "output_type": "stream",
     "name": "stdout",
     "output_type": "stream",
     "text": [
      "+--------------------+------------------+---------+\n|            features|        prediction|totalFare|\n+--------------------+------------------+---------+\n|[107.0,0.0,0.0,0....|493.48081895684936|    498.6|\n|[107.0,1.0,0.0,0....| 448.6191440605508|    448.6|\n|[107.0,1.0,0.0,0....| 862.4584446618148|    711.6|\n|[107.0,0.0,0.0,0....|  396.694126526188|    402.2|\n|[107.0,0.0,0.0,0....| 607.5373001157357|    791.6|\n|[107.0,1.0,0.0,0....| 725.4300010886788|    797.2|\n|[107.0,1.0,0.0,0....|352.09362259997084|   328.59|\n|[107.0,1.0,0.0,0....|  566.612055338212|    561.2|\n|[107.0,1.0,0.0,0....|  566.612055338212|    561.2|\n|[107.0,1.0,0.0,0....| 602.9179298957365|    621.6|\n|[107.0,0.0,0.0,0....| 595.7356948912677|   598.61|\n|[107.0,1.0,0.0,0....| 595.7356948912677|   598.61|\n|[107.0,0.0,0.0,0....| 595.7356948912677|   598.61|\n|[107.0,0.0,0.0,0....| 595.7356948912677|   598.61|\n|[107.0,0.0,0.0,0....| 595.7356948912677|   598.61|\n|[107.0,1.0,0.0,0....| 595.7356948912677|   598.61|\n|(10,[0,1,5,8,9],[...| 398.1437205121827|   410.58|\n|(10,[0,1,5,8,9],[...|412.11606115623334|   457.07|\n|[107.0,0.0,0.0,0....| 560.4717104641144|    555.6|\n|[107.0,1.0,0.0,0....| 655.0027220705393|   787.59|\n+--------------------+------------------+---------+\nonly showing top 20 rows\n\n"
     ]
    }
   ],
   "source": [
    "# Use the trained model to make predictions on the test set\n",
    "prediction_gbt_cv = model_gbt_cv.transform(test) \n",
    "\n",
    "# Select the relevant columns from the prediction output: features, predicted values, and actual target (totalFare)\n",
    "predicted_gbt_cv = prediction_gbt_cv.select(\"features\", \"prediction\", \"totalFare\")\n",
    "\n",
    "# Display the predictions (features, predicted totalFare, and actual totalFare)\n",
    "predicted_gbt_cv.show()\n"
   ]
  },
  {
   "cell_type": "code",
   "execution_count": 0,
   "metadata": {
    "application/vnd.databricks.v1+cell": {
     "cellMetadata": {
      "byteLimit": 2048000,
      "rowLimit": 10000
     },
     "inputWidgets": {},
     "nuid": "edefb3e4-bd3a-42ad-a087-b32d83e2ce97",
     "showTitle": false,
     "tableResultSettingsMap": {},
     "title": ""
    }
   },
   "outputs": [
    {
     "output_type": "stream",
     "name": "stdout",
     "output_type": "stream",
     "text": [
      "Cross Validation for Gradient Boosted Decision Trees\nCoefficient of Determination (R2) for Gradient Boosted Decision Trees:  0.9431012402896969\nRoot Mean Square Error (RMSE) for Gradient Boosted Decision Trees:  53.883927972244294\n"
     ]
    }
   ],
   "source": [
    "# Create a RegressionEvaluator to calculate R-squared (coefficient of determination) for GBT\n",
    "gbt_evaluator_cv_r2 = RegressionEvaluator(labelCol=\"totalFare\",\n",
    "                                          predictionCol=\"prediction\",metricName=\"r2\") \n",
    "r2_gbt_cv = gbt_evaluator_cv_r2.evaluate(prediction_gbt_cv)\n",
    " \n",
    "# Create RegressionEvaluator to calculate RMSE (Root Mean Square Error) for GBT\n",
    "gbt_evaluator_cv_rmse = RegressionEvaluator(labelCol=\"totalFare\",\n",
    "                                           predictionCol=\"prediction\",metricName=\"rmse\") \n",
    "rmse_gbt_cv = gbt_evaluator_cv_rmse.evaluate(prediction_gbt_cv);\n",
    "\n",
    "# Print the results of R2 and RMSE for Gradient Boosted Decision Trees model using Cross Validation\n",
    "print(\"Cross Validation for Gradient Boosted Decision Trees\")\n",
    "print(\"Coefficient of Determination (R2) for Gradient Boosted Decision Trees: \", r2_gbt_cv)\n",
    "print(\"Root Mean Square Error (RMSE) for Gradient Boosted Decision Trees: \", rmse_gbt_cv)"
   ]
  }
 ],
 "metadata": {
  "application/vnd.databricks.v1+notebook": {
   "computePreferences": null,
   "dashboards": [],
   "environmentMetadata": null,
   "inputWidgetPreferences": null,
   "language": "python",
   "notebookMetadata": {
    "mostRecentlyExecutedCommandWithImplicitDF": {
     "commandId": 1801366828063015,
     "dataframes": [
      "_sqldf"
     ]
    },
    "pythonIndentUnit": 4
   },
   "notebookName": "Flights-GradientBoost",
   "widgets": {}
  }
 },
 "nbformat": 4,
 "nbformat_minor": 0
}
